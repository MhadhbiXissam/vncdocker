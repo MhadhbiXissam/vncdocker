{
  "nbformat": 4,
  "nbformat_minor": 0,
  "metadata": {
    "colab": {
      "private_outputs": true,
      "provenance": []
    },
    "kernelspec": {
      "name": "python3",
      "display_name": "Python 3"
    },
    "language_info": {
      "name": "python"
    }
  },
  "cells": [
    {
      "cell_type": "code",
      "execution_count": null,
      "metadata": {
        "id": "gfv0EOJRbYYH"
      },
      "outputs": [],
      "source": [
        "!npm install -g localtunnel\n",
        "!sudo apt-get install xvfb xserver-xephyr tigervnc-standalone-server x11-utils gnumeric novnc\n",
        "!apt-get update\n",
        "!apt-get install -y wget unzip x11vnc\n",
        "!sudo apt update\n",
        "!sudo apt install nginx\n",
        "!pip install pyvirtualdisplay pillow EasyProcess websockets\n",
        "# Install Chrome\n",
        "!wget -q https://dl.google.com/linux/direct/google-chrome-stable_current_amd64.deb\n",
        "!dpkg -i google-chrome-stable_current_amd64.deb\n",
        "!npm install -g localtunnel\n",
        "!apt --fix-broken install -y\n",
        "from IPython.display import clear_output\n",
        "import os\n",
        "clear_output()\n",
        "from easyprocess import EasyProcess\n",
        "from pyvirtualdisplay import Display\n",
        "from pyvirtualdisplay.smartdisplay import SmartDisplay\n",
        "import threading , time , os , socket ,threading , requests , threading\n",
        "from IPython.display import HTML , IFrame\n",
        "\n",
        "\n",
        "def get_public_ip():\n",
        "    response = requests.get('https://api.ipify.org?format=json')\n",
        "    return response.json()['ip']\n",
        "def get_available_port():\n",
        "    # Create a socket using the IPv4 address family and TCP protocol\n",
        "    sock = socket.socket(socket.AF_INET, socket.SOCK_STREAM)\n",
        "\n",
        "    # Bind to a port of value 0 which allows the OS to assign an available port\n",
        "    sock.bind(('localhost', 0))\n",
        "\n",
        "    # Retrieve the port number assigned by the OS\n",
        "    port = sock.getsockname()[1]\n",
        "\n",
        "    # Close the socket\n",
        "    sock.close()\n",
        "\n",
        "    return port"
      ]
    },
    {
      "cell_type": "code",
      "source": [],
      "metadata": {
        "id": "ZDIhoTCocSCs"
      },
      "execution_count": null,
      "outputs": []
    },
    {
      "cell_type": "code",
      "source": [
        "!rm nohup.out\n",
        "!port_to_check=5900; pid=$(lsof -t -i:$port_to_check); if [ -n \"$pid\" ]; then echo \"Process using port $port_to_check found with PID: $pid\"; kill $pid; echo \"Process with PID $pid terminated.\"; else echo \"No process found using port $port_to_check.\"; fi\n",
        "def background_task():\n",
        "    with SmartDisplay(backend=\"xvnc\", size=(1920, 1080),rfbport = 5900) as disp:\n",
        "        os.environ['DISPLAY'] = f\":{str(disp.display )}\"\n",
        "        with EasyProcess([\"google-chrome\" , \"--no-sandbox\" ,  \"--app-url\" , \" https://www.google.com/\" ])  as proc:\n",
        "            time.sleep(5)\n",
        "\n",
        "            img = disp.waitgrab()\n",
        "            print(disp.display , file = open('debug.txt' , 'w'))\n",
        "            #### save this image to local\n",
        "            img.save('screenshot.png')  # Save the image to local file\n",
        "            proc.wait()\n",
        "            print(\"disp.display\" , file = open('debug.txt' , 'w'))\n",
        "# Start the background task in a separate thread\n",
        "\n",
        "background_thread = threading.Thread(target=background_task)\n",
        "background_thread.daemon = True\n",
        "background_thread.start()\n",
        "!port_to_check=6080; pid=$(lsof -t -i:$port_to_check); if [ -n \"$pid\" ]; then echo \"Process using port $port_to_check found with PID: $pid\"; kill $pid; echo \"Process with PID $pid terminated.\"; else echo \"No process found using port $port_to_check.\"; fi\n",
        "public_ip = get_public_ip()\n",
        "\n",
        "html_content = f\"\"\"\n",
        "\n",
        "<div style=\"width: 100% , padding:12 ; display: flex;justify-content: center; \">\n",
        "    <button id=\"copyButton\" onclick=\"copyToClipboard()\" style=\"width: 100%;margin: 12px ; padding: 12px\">Copy Ip address</button>\n",
        "    <script>\n",
        "        function copyToClipboard() {{\n",
        "\n",
        "            navigator.clipboard.writeText(\"{public_ip}\") ;\n",
        "        }}\n",
        "    </script>\n",
        "</div>\n",
        "\"\"\"\n",
        "display(HTML(html_content))\n",
        "\n",
        "\n",
        "\n",
        "\n",
        "\n",
        "\n"
      ],
      "metadata": {
        "id": "UrdosA7bbz84"
      },
      "execution_count": null,
      "outputs": []
    },
    {
      "cell_type": "code",
      "source": [
        "!port_to_check=5000; pid=$(lsof -t -i:$port_to_check); if [ -n \"$pid\" ]; then echo \"Process using port $port_to_check found with PID: $pid\"; kill $pid; echo \"Process with PID $pid terminated.\"; else echo \"No process found using port $port_to_check.\"; fi\n",
        "!nohup /usr/share/novnc/utils/launch.sh --vnc localhost:5900 > novnc.log 2>&1 &\n",
        "import multiprocessing\n",
        "import asyncio\n",
        "import websockets\n",
        "from urllib.parse import urljoin\n",
        "\n",
        "async def forward(websocket, path):\n",
        "    # Replace with the actual WebSocket server URL\n",
        "    target_uri = f\"ws://{your_werequests.get('https://api.ipify.org?format=json').json().get('ip')}:5900\"\n",
        "\n",
        "\n",
        "    async with websockets.connect(target_uri) as target_websocket:\n",
        "        while True:\n",
        "            try:\n",
        "                # Forward messages from the client to the target WebSocket server\n",
        "                client_message = await websocket.recv()\n",
        "                await target_websocket.send(client_message)\n",
        "\n",
        "                # Forward responses from the target WebSocket server back to the client\n",
        "                server_response = await target_websocket.recv()\n",
        "                await websocket.send(server_response)\n",
        "            except websockets.exceptions.ConnectionClosed:\n",
        "                break\n",
        "\n",
        "def run_websocket_proxy():\n",
        "    loop = asyncio.new_event_loop()\n",
        "    asyncio.set_event_loop(loop)\n",
        "    loop.run_until_complete(websockets.serve(forward, socket.gethostname() , 6080))\n",
        "    loop.run_forever()\n",
        "\n",
        "if __name__ == \"__main__\":\n",
        "    # Create a separate process to run the WebSocket proxy\n",
        "    !nohup lt --port 6080 > server.log 2>&1 &\n",
        "    websocket_proxy_process = multiprocessing.Process(target=run_websocket_proxy)\n",
        "    websocket_proxy_process.start()\n",
        "    time.sleep(5)\n",
        "    url_screen = open(\"server.log\").read().strip().replace('your url is: ','')\n",
        "    print(url_screen)\n",
        "    print(urljoin(url_screen, f\"/vnc.html?host={socket.gethostname()}&port=6080\"))\n",
        "    websocket_proxy_process.join()\n",
        "\n",
        "\n"
      ],
      "metadata": {
        "id": "ML-efCaIeShw"
      },
      "execution_count": null,
      "outputs": []
    },
    {
      "cell_type": "code",
      "source": [
        "\n",
        "\n",
        "base_url = \"https://example.com/\"\n",
        "relative_url = \"path/to/page\"\n",
        "\n",
        "complete_url = urljoin(base_url, relative_url)\n",
        "print(\"Complete URL:\", complete_url)\n",
        "\n",
        "\n"
      ],
      "metadata": {
        "id": "WX7NhcyOm9wP"
      },
      "execution_count": null,
      "outputs": []
    }
  ]
}