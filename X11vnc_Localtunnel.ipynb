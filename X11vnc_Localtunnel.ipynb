{
  "nbformat": 4,
  "nbformat_minor": 0,
  "metadata": {
    "colab": {
      "private_outputs": true,
      "provenance": []
    },
    "kernelspec": {
      "name": "python3",
      "display_name": "Python 3"
    },
    "language_info": {
      "name": "python"
    }
  },
  "cells": [
    {
      "cell_type": "code",
      "source": [
        "!npm install -g localtunnel\n",
        "!sudo apt-get install xvfb xserver-xephyr tigervnc-standalone-server x11-utils gnumeric novnc\n",
        "!apt-get update\n",
        "!apt-get install -y wget unzip x11vnc\n",
        "!sudo apt update\n",
        "!sudo apt install nginx\n",
        "!pip install pyvirtualdisplay pillow EasyProcess websockets\n",
        "# Install Chrome\n",
        "!wget -q https://dl.google.com/linux/direct/google-chrome-stable_current_amd64.deb\n",
        "!dpkg -i google-chrome-stable_current_amd64.deb\n",
        "!npm install -g localtunnel\n",
        "!apt --fix-broken install -y\n",
        "from IPython.display import clear_output\n",
        "import os\n",
        "clear_output()"
      ],
      "metadata": {
        "id": "TMxd7eIQOtQ3"
      },
      "execution_count": null,
      "outputs": []
    },
    {
      "cell_type": "code",
      "source": [
        "from easyprocess import EasyProcess\n",
        "from pyvirtualdisplay import Display\n",
        "from pyvirtualdisplay.smartdisplay import SmartDisplay\n",
        "import threading , time , os , socket ,threading , requests , threading\n",
        "from IPython.display import HTML , IFrame\n",
        "\n",
        "\n",
        "def get_public_ip():\n",
        "    response = requests.get('https://api.ipify.org?format=json')\n",
        "    return response.json()['ip']\n",
        "def get_available_port():\n",
        "    # Create a socket using the IPv4 address family and TCP protocol\n",
        "    sock = socket.socket(socket.AF_INET, socket.SOCK_STREAM)\n",
        "\n",
        "    # Bind to a port of value 0 which allows the OS to assign an available port\n",
        "    sock.bind(('localhost', 0))\n",
        "\n",
        "    # Retrieve the port number assigned by the OS\n",
        "    port = sock.getsockname()[1]\n",
        "\n",
        "    # Close the socket\n",
        "    sock.close()\n",
        "\n",
        "    return port"
      ],
      "metadata": {
        "id": "Ems89h-nYbBI"
      },
      "execution_count": null,
      "outputs": []
    },
    {
      "cell_type": "code",
      "source": [
        "!port_to_check=5900; pid=$(lsof -t -i:$port_to_check); if [ -n \"$pid\" ]; then echo \"Process using port $port_to_check found with PID: $pid\"; kill $pid; echo \"Process with PID $pid terminated.\"; else echo \"No process found using port $port_to_check.\"; fi\n",
        "\n",
        "def background_task():\n",
        "    with SmartDisplay(backend=\"xvnc\", size=(1000, 600)) as disp:\n",
        "        os.environ['DISPLAY'] = f\":{str(disp.display )}\"\n",
        "        with EasyProcess([\"google-chrome\" , \"--no-sandbox\" ,  \"--app-url\" , \" https://www.google.com/\" ])  as proc:\n",
        "            time.sleep(5)\n",
        "            img = disp.waitgrab()\n",
        "            print(disp.display , file = open('debug.txt' , 'w'))\n",
        "            #### save this image to local\n",
        "            img.save('screenshot.png')  # Save the image to local file\n",
        "            proc.wait()\n",
        "            print(\"disp.display\" , file = open('debug.txt' , 'w'))\n",
        "# Start the background task in a separate thread\n",
        "\n",
        "background_thread = threading.Thread(target=background_task)\n",
        "background_thread.daemon = True\n",
        "background_thread.start()\n",
        "!rm nohup.out\n",
        "!nohup x11vnc -quiet -cursor  -bg -localhost -nopw -forever -shared -rfbport 5904 --multiptr  -create &\n",
        "!port_to_check=6080; pid=$(lsof -t -i:$port_to_check); if [ -n \"$pid\" ]; then echo \"Process using port $port_to_check found with PID: $pid\"; kill $pid; echo \"Process with PID $pid terminated.\"; else echo \"No process found using port $port_to_check.\"; fi\n",
        "!nohup /usr/share/novnc/utils/launch.sh --vnc localhost:5904 > novnc.log 2>&1 &\n",
        "time.sleep(5)\n",
        "url_novnc = None\n",
        "with open('novnc.log') as buff:\n",
        "    for line in buff :\n",
        "        if line.strip().startswith('http://') :\n",
        "            url_novnc = line.strip()\n",
        "            print(url_novnc)\n"
      ],
      "metadata": {
        "id": "CxUFSrO8gqKg"
      },
      "execution_count": null,
      "outputs": []
    },
    {
      "cell_type": "code",
      "source": [
        "from flask import Flask, request\n",
        "import asyncio\n",
        "import websockets\n",
        "!port_to_check=5000; pid=$(lsof -t -i:$port_to_check); if [ -n \"$pid\" ]; then echo \"Process using port $port_to_check found with PID: $pid\"; kill $pid; echo \"Process with PID $pid terminated.\"; else echo \"No process found using port $port_to_check.\"; fi\n",
        "\n",
        "app = Flask(__name__)\n",
        "local_server_uri = url_novnc\n",
        "print(local_server_uri)\n",
        "\n",
        "@app.route('/')\n",
        "async def websocket():\n",
        "     # Replace with your local WebSocket server URI\n",
        "    ws = await websockets.connect(local_server_uri)\n",
        "\n",
        "    async def forward_request():\n",
        "        async for message in request.ws:\n",
        "            await ws.send(message)\n",
        "\n",
        "    async def forward_response():\n",
        "        async for message in ws:\n",
        "            await request.ws.send(message)\n",
        "\n",
        "    await asyncio.gather(forward_request(), forward_response())\n",
        "    return ''\n",
        "\n",
        "def run_flask() :\n",
        "    app.run(host='0.0.0.0', port=5000)\n",
        "background_thread2 = threading.Thread(target=run_flask)\n",
        "background_thread2.daemon = True\n",
        "background_thread2.start()"
      ],
      "metadata": {
        "id": "N5mUGzQSrpSF"
      },
      "execution_count": null,
      "outputs": []
    },
    {
      "cell_type": "code",
      "source": [
        "available_port = get_available_port()\n",
        "os.environ[\"AVAILABLEPORT\"] = str(available_port)\n",
        "!nohup lt --port 5000 > localtunnel.log 2>&1 &\n",
        "public_ip = get_public_ip()\n",
        "\n",
        "html_content = f\"\"\"\n",
        "\n",
        "<div style=\"width: 100% , padding:12 ; display: flex;justify-content: center; \">\n",
        "    <button id=\"copyButton\" onclick=\"copyToClipboard()\" style=\"width: 100%;margin: 12px ; padding: 12px\">Copy Ip address</button>\n",
        "    <script>\n",
        "        function copyToClipboard() {{\n",
        "\n",
        "            navigator.clipboard.writeText(\"{public_ip}\") ;\n",
        "        }}\n",
        "    </script>\n",
        "</div>\n",
        "\"\"\"\n",
        "display(HTML(html_content))\n",
        "loacl_tunnel_url = open(\"localtunnel.log\").read().strip().split()[-1].strip()\n",
        "IFrame(loacl_tunnel_url,'100%','900')"
      ],
      "metadata": {
        "id": "YhJPYhKro8Xr"
      },
      "execution_count": null,
      "outputs": []
    },
    {
      "cell_type": "code",
      "source": [
        "!port_to_check=5900; pid=$(lsof -t -i:$port_to_check); if [ -n \"$pid\" ]; then echo \"Process using port $port_to_check found with PID: $pid\"; kill $pid; echo \"Process with PID $pid terminated.\"; else echo \"No process found using port $port_to_check.\"; fi\n",
        "\n",
        "def background_task2():\n",
        "    with SmartDisplay(backend=\"xvnc\", size=(1000, 600),rfbport=5904) as disp:\n",
        "        os.environ['DISPLAY'] = f\":{str(disp.display )}\"\n",
        "        with EasyProcess([\"google-chrome\" , \"--no-sandbox\" ,  \"--app-url\" , \"http://a6b21e7dacbd:6080/vnc.html?host=a6b21e7dacbd&port=6080\" ])  as proc:\n",
        "            time.sleep(5)\n",
        "            img = disp.waitgrab()\n",
        "            print(disp.display , file = open('debug.txt' , 'w'))\n",
        "            #### save this image to local\n",
        "            img.save('screenshot2.png')  # Save the image to local file\n",
        "            proc.wait()\n",
        "            print(\"disp.display\" , file = open('debug.txt' , 'w'))\n",
        "\n",
        "# Start the background task in a separate thread\n",
        "\n",
        "background_thread3 = threading.Thread(target=background_task2)\n",
        "background_thread3.daemon = True\n",
        "background_thread3.start()"
      ],
      "metadata": {
        "id": "SeaTjQ96hIap"
      },
      "execution_count": null,
      "outputs": []
    },
    {
      "cell_type": "code",
      "source": [
        "loacl_tunnel_url = open(\"localtunnel.log\").read().split()[-1].strip()\n",
        "loacl_tunnel_url"
      ],
      "metadata": {
        "id": "8BEG8ygFpxI3"
      },
      "execution_count": null,
      "outputs": []
    }
  ]
}